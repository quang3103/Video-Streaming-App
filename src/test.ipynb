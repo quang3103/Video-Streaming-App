{
 "metadata": {
  "language_info": {
   "codemirror_mode": {
    "name": "ipython",
    "version": 3
   },
   "file_extension": ".py",
   "mimetype": "text/x-python",
   "name": "python",
   "nbconvert_exporter": "python",
   "pygments_lexer": "ipython3",
   "version": "3.8.3-final"
  },
  "orig_nbformat": 2,
  "kernelspec": {
   "name": "python383jvsc74a57bd03fc43e69d2b4e6f653b3eb9da533007c333d387150fccb0299356b77d92ef845",
   "display_name": "Python 3.8.3 64-bit ('base': conda)"
  }
 },
 "nbformat": 4,
 "nbformat_minor": 2,
 "cells": [
  {
   "cell_type": "code",
   "execution_count": 24,
   "metadata": {},
   "outputs": [],
   "source": [
    "https://io.adafruit.com/api/v2/test_username/feeds?x-aio-key=aio_XiUB37wuN11MQFiaR2ltrBsqa09L"
   ]
  },
  {
   "cell_type": "code",
   "execution_count": 1,
   "metadata": {},
   "outputs": [],
   "source": [
    "import requests"
   ]
  },
  {
   "cell_type": "code",
   "execution_count": 4,
   "metadata": {},
   "outputs": [
    {
     "output_type": "stream",
     "name": "stdout",
     "text": [
      "[{\"username\":\"thanhdanh27600\",\"owner\":{\"id\":501733,\"username\":\"thanhdanh27600\"},\"id\":1592212,\"name\":\"Welcome Feed\",\"description\":null,\"license\":null,\"history\":true,\"enabled\":true,\"visibility\":\"private\",\"unit_type\":null,\"unit_symbol\":null,\"last_value\":null,\"created_at\":\"2021-03-31T15:23:34Z\",\"updated_at\":\"2021-04-03T15:24:09Z\",\"status_notify\":false,\"status_timeout\":4320,\"status\":\"offline\",\"key\":\"welcome-feed\",\"group\":{\"id\":426305,\"key\":\"default\",\"name\":\"Default\",\"user_id\":501733},\"groups\":[{\"id\":426305,\"key\":\"default\",\"name\":\"Default\",\"user_id\":501733}],\"feed_webhook_receivers\":[],\"feed_status_changes\":[{\"created_at\":\"2021-04-03T15:24:09Z\",\"from_status\":\"online\",\"to_status\":\"offline\",\"email_sent\":null,\"email_sent_to\":null}]},{\"username\":\"thanhdanh27600\",\"owner\":{\"id\":501733,\"username\":\"thanhdanh27600\"},\"id\":1592213,\"name\":\"BBC_LED_F\",\"description\":\"\",\"license\":null,\"history\":true,\"enabled\":true,\"visibility\":\"public\",\"unit_type\":null,\"unit_symbol\":null,\"last_value\":\"0\",\"created_at\":\"2021-03-31T15:24:31Z\",\"updated_at\":\"2021-04-09T12:24:08Z\",\"status_notify\":false,\"status_timeout\":4320,\"status\":\"offline\",\"key\":\"bbc-led\",\"group\":{\"id\":426305,\"key\":\"default\",\"name\":\"Default\",\"user_id\":501733},\"groups\":[{\"id\":426305,\"key\":\"default\",\"name\":\"Default\",\"user_id\":501733}],\"feed_webhook_receivers\":[],\"feed_status_changes\":[{\"created_at\":\"2021-04-09T12:24:08Z\",\"from_status\":\"online\",\"to_status\":\"offline\",\"email_sent\":null,\"email_sent_to\":null},{\"created_at\":\"2021-04-05T11:19:01Z\",\"from_status\":\"offline\",\"to_status\":\"online\",\"email_sent\":null,\"email_sent_to\":null},{\"created_at\":\"2021-04-04T08:32:09Z\",\"from_status\":\"online\",\"to_status\":\"offline\",\"email_sent\":null,\"email_sent_to\":null}]},{\"username\":\"thanhdanh27600\",\"owner\":{\"id\":501733,\"username\":\"thanhdanh27600\"},\"id\":1592539,\"name\":\"BBC_LED_F2\",\"description\":\"\",\"license\":null,\"history\":true,\"enabled\":true,\"visibility\":\"public\",\"unit_type\":null,\"unit_symbol\":null,\"last_value\":\"30\",\"created_at\":\"2021-04-01T06:41:04Z\",\"updated_at\":\"2021-04-04T08:04:09Z\",\"status_notify\":false,\"status_timeout\":4320,\"status\":\"offline\",\"key\":\"bbc-led-f2\",\"group\":{\"id\":426305,\"key\":\"default\",\"name\":\"Default\",\"user_id\":501733},\"groups\":[{\"id\":426305,\"key\":\"default\",\"name\":\"Default\",\"user_id\":501733}],\"feed_webhook_receivers\":[],\"feed_status_changes\":[{\"created_at\":\"2021-04-04T08:04:09Z\",\"from_status\":\"online\",\"to_status\":\"offline\",\"email_sent\":null,\"email_sent_to\":null}]},{\"username\":\"thanhdanh27600\",\"owner\":{\"id\":501733,\"username\":\"thanhdanh27600\"},\"id\":1598135,\"name\":\"CN\",\"description\":\"The playlist movies in the server to keep clients updated. Computer Networks.\",\"license\":null,\"history\":false,\"enabled\":true,\"visibility\":\"public\",\"unit_type\":null,\"unit_symbol\":null,\"last_value\":null,\"created_at\":\"2021-04-09T18:39:56Z\",\"updated_at\":\"2021-04-09T18:40:12Z\",\"status_notify\":false,\"status_timeout\":4320,\"status\":\"online\",\"key\":\"cn\",\"group\":{\"id\":426305,\"key\":\"default\",\"name\":\"Default\",\"user_id\":501733},\"groups\":[{\"id\":426305,\"key\":\"default\",\"name\":\"Default\",\"user_id\":501733}],\"feed_webhook_receivers\":[],\"feed_status_changes\":[]}]\n"
     ]
    }
   ],
   "source": [
    "key = requests.get('https://io.adafruit.com/api/v2/thanhdanh27600/feeds?x-aio-key=aio_XiUB37wuN11MQFiaR2ltrBsqa09L')\n",
    "print(key.text)"
   ]
  },
  {
   "cell_type": "code",
   "execution_count": 15,
   "metadata": {},
   "outputs": [
    {
     "output_type": "stream",
     "name": "stdout",
     "text": [
      "{\"id\":\"0EPWQXQGEREVMKMEGV5C70GQYD\",\"value\":\"a.mjpeg\\nb.mjpeg\",\"feed_id\":1598135,\"feed_key\":\"cn\",\"created_at\":\"2021-04-09T18:54:33Z\",\"created_epoch\":1617994473,\"expiration\":\"2021-05-09T18:54:33Z\"}\n"
     ]
    }
   ],
   "source": [
    "url = 'https://io.adafruit.com/api/v2/thanhdanh27600/feeds/cn/data'\n",
    "myobj = {'value': 'a.mjpeg\\nb.mjpeg'}\n",
    "auth_key = {'X-AIO-Key':'aio_XiUB37wuN11MQFiaR2ltrBsqa09L'}\n",
    "post_data = requests.post(url, json = myobj, headers=auth_key)\n",
    "\n",
    "print(post_data.text)"
   ]
  },
  {
   "cell_type": "code",
   "execution_count": 25,
   "metadata": {},
   "outputs": [
    {
     "output_type": "error",
     "ename": "SyntaxError",
     "evalue": "unmatched ')' (<ipython-input-25-d74f85393ce0>, line 4)",
     "traceback": [
      "\u001b[1;36m  File \u001b[1;32m\"<ipython-input-25-d74f85393ce0>\"\u001b[1;36m, line \u001b[1;32m4\u001b[0m\n\u001b[1;33m    put_data = requests.put(url, data=myobj), headers=auth_key)\u001b[0m\n\u001b[1;37m                                                              ^\u001b[0m\n\u001b[1;31mSyntaxError\u001b[0m\u001b[1;31m:\u001b[0m unmatched ')'\n"
     ]
    }
   ],
   "source": [
    "url = 'https://io.adafruit.com/api/v2/thanhdanh27600/feeds/cn/data/0EPWQXQGEREVMKMEGV5C70GQYD'\n",
    "\n",
    "myobj = {'value': 'a2.mjpeg\\nb2.mjpeg'}\n",
    "put_data = requests.put(url, json=myobj, headers=auth_key)\n",
    "print(put_data.text)"
   ]
  }
 ]
}